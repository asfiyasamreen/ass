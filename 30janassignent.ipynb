{
 "cells": [
  {
   "cell_type": "markdown",
   "id": "e82765f5-b54c-4258-b459-1b80a0936d8e",
   "metadata": {},
   "source": [
    "1. Write a program to accept percentage from the user and display the grade according to the following \n",
    "criteria: \n",
    "Marks \n",
    "Grade \n",
    ">90 \n",
    "A \n",
    ">80 and <=90 \n",
    "B \n",
    ">=60 and <=80 \n",
    "C \n",
    "below 60 \n",
    "D \n",
    "ans:\n",
    "percentage=int(input(\"enter the percentage\"))\n",
    "if percentage>90:\n",
    "    print(\"a grade\")\n",
    "elif percentage>80 and percentage<=90:\n",
    "    print(\"b grade\")\n",
    "elif percentage>=60 and percentage<=80:\n",
    "    print(\"c grade\")\n",
    "else:\n",
    "    print(\"d grade\")\n",
    "    \n",
    "    \n",
    "    \n"
   ]
  },
  {
   "cell_type": "markdown",
   "id": "d01f17a9-9cf8-478e-b9d5-897156c7779d",
   "metadata": {},
   "source": [
    "2. Write a program to accept the cost price of a bike and display the road tax to be paid according to the \n",
    "following criteria: \n",
    "Tax \n",
    "15% \n",
    "10% \n",
    "5% \n",
    "Cost Price(in Rs) \n",
    ">100000 \n",
    ">50000 and <= 100000 \n",
    "<= 50000 \n",
    "ans:\n",
    "cost=int(input(\"enter the cost price of the bike\"))\n",
    "if cost>100000:\n",
    "    tax=(cost*15)/100\n",
    "    print(\"the road tax is\",tax)\n",
    "elif cost>50000 and cost<=100000:\n",
    "    tax=(cost*10)/100\n",
    "    print(\"the road tax is \",tax)\n",
    "else:\n",
    "    tax=(cost*5)/100\n",
    "    print(\"the road tax is\",tax)\n",
    "    \n",
    "    \n",
    "\n"
   ]
  },
  {
   "cell_type": "markdown",
   "id": "1a3793fe-54e6-4910-9f7a-69c05b612bf3",
   "metadata": {},
   "source": [
    "3. Accept any city from the user and display monuments of that city. \n",
    "City \n",
    "Delhi \n",
    "Monument \n",
    "Red Fort \n",
    "Taj Mahal \n",
    "Agra \n",
    "Jaipur \n",
    "Jal Mahal \n",
    "ans:\n",
    "city=input((\"enter the city(delhi,agra,jaipur)\"))\n",
    "if city==\"delhi\":\n",
    "    print(\"red fort\")\n",
    "elif city==\"agra\":\n",
    "    print(\"taj mahal\")\n",
    "else:\n",
    "    print(\"jal mahal\")\n",
    "\n"
   ]
  },
  {
   "cell_type": "markdown",
   "id": "12b6aef2-2f86-425a-ba50-537d0bfdf789",
   "metadata": {},
   "source": [
    "4. Check how many times a given number can be divided by 3 before it is less than or equal to 10. \n",
    "ans:num=int(input(\"enter the number\"))\n",
    "    count=0\n",
    "    while num>10:\n",
    "      num=num/3\n",
    "      count=count+1\n",
    "    print(\"the number can be divided\",count,\"times\")\n"
   ]
  },
  {
   "cell_type": "markdown",
   "id": "f29df27c-6d35-4201-8c89-0760535bb0d9",
   "metadata": {},
   "source": [
    "5. Why and When to Use while Loop in Python give a detailed description with example \n",
    "ans: While Loop is used to execute a block of statements repeatedly until a given condition is satisfied. And when the condition becomes false, the line immediately after the loop in the program is executed.\n",
    "ex:\n",
    "count = 0\n",
    "while (count < 3):\n",
    "\tcount = count + 1\n",
    "\tprint(\"Hello world\")\n",
    "\n"
   ]
  },
  {
   "cell_type": "markdown",
   "id": "d80e5bdb-1290-4abd-a2cd-60c65136d601",
   "metadata": {},
   "source": [
    "6. Use nested while loop to print 3 different pattern. \n",
    "ans:1:number pattern:\n",
    "rows = 6\n",
    "for i in range(rows):\n",
    "    # nested loop\n",
    "    for j in range(i):\n",
    "        # display number\n",
    "        print(i, end=' ')\n",
    "    # new line after each row\n",
    "    print('')\n",
    "2:square pattern with numbers:\n",
    "rows = 5\n",
    "for i in range(1, rows + 1):\n",
    "    for j in range(1, rows + 1):\n",
    "        if j <= i:\n",
    "            print(i, end=' ')\n",
    "        else:\n",
    "            print(j, end=' ')\n",
    "    print()\n",
    "3:downward full pyramid pattern of star:\n",
    "rows = 5\n",
    "k = 2 * rows - 2\n",
    "for i in range(rows, -1, -1):\n",
    "    for j in range(k, 0, -1):\n",
    "        print(end=\" \")\n",
    "    k = k + 1\n",
    "    for j in range(0, i + 1):\n",
    "        print(\"*\", end=\" \")\n",
    "    print(\"\")"
   ]
  },
  {
   "cell_type": "markdown",
   "id": "d0d3e92f-8f30-4932-921f-2ca66c85be86",
   "metadata": {},
   "source": [
    "7. Reverse a while loop to display numbers from 10 to 1\n",
    "ans:\n",
    "i = 10\n",
    "while i > 0:\n",
    "    print(i)\n",
    "    i = i - 1"
   ]
  },
  {
   "cell_type": "markdown",
   "id": "a3f76e5a-a951-46db-b563-5bd29958a236",
   "metadata": {},
   "source": [
    "8. Reverse a while loop to display numbers from 10 to 1 \n",
    "ans:\n",
    "i = 10\n",
    "while i > 0:\n",
    "    print(i)\n",
    "    i = i - 1"
   ]
  }
 ],
 "metadata": {
  "kernelspec": {
   "display_name": "Python 3 (ipykernel)",
   "language": "python",
   "name": "python3"
  },
  "language_info": {
   "codemirror_mode": {
    "name": "ipython",
    "version": 3
   },
   "file_extension": ".py",
   "mimetype": "text/x-python",
   "name": "python",
   "nbconvert_exporter": "python",
   "pygments_lexer": "ipython3",
   "version": "3.10.8"
  }
 },
 "nbformat": 4,
 "nbformat_minor": 5
}
